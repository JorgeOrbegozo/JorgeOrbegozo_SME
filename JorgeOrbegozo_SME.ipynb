{
 "cells": [
  {
   "attachments": {},
   "cell_type": "markdown",
   "metadata": {},
   "source": [
    "En este notebook se va a realizar el trabajo de python de la asignatura de Software Matemático y Estadístico (SME).\n",
    "Lo primero de todo es importar las librerias que vamos a usar."
   ]
  },
  {
   "cell_type": "code",
   "execution_count": 38,
   "metadata": {},
   "outputs": [],
   "source": [
    "import numpy as np\n",
    "import pandas as pd\n",
    "import random\n",
    "import matplotlib.pyplot as plt\n",
    "import statistics"
   ]
  },
  {
   "attachments": {},
   "cell_type": "markdown",
   "metadata": {},
   "source": [
    "Para realizar este trabajo se van a utilizar datos random con los que vamos a generar diferentes datasets y dataframes. Por esto mismo vamos a poner una seed, para que al realizar las ejecuciones den siempre los mismos resultados."
   ]
  },
  {
   "cell_type": "code",
   "execution_count": 39,
   "metadata": {},
   "outputs": [],
   "source": [
    "random.seed(33)"
   ]
  },
  {
   "attachments": {},
   "cell_type": "markdown",
   "metadata": {},
   "source": [
    "Vamos a empezar defininiendo las funciones que generan la información que vamos a necesitar pasar a las funciones. Para generar un dataset tenemos que indicar en número de filas y de columnas que queremos."
   ]
  },
  {
   "cell_type": "code",
   "execution_count": 40,
   "metadata": {},
   "outputs": [],
   "source": [
    "def create_dataset(num_rows, num_columns):\n",
    "    random.seed(33)\n",
    "    # Creamos una lista vacía que almacenará los datos del dataset\n",
    "    data = []\n",
    "\n",
    "    # Generamos los datos del dataset\n",
    "    for i in range(num_rows):\n",
    "        row = []\n",
    "        for j in range(num_columns):\n",
    "            # Generamos un número aleatorio para cada columna\n",
    "            value = random.randint(0, 100)\n",
    "            row.append(value)\n",
    "        # Añadimos la fila al dataset\n",
    "        data.append(row)\n",
    "\n",
    "    # Devolvemos el dataset\n",
    "    return data"
   ]
  },
  {
   "attachments": {},
   "cell_type": "markdown",
   "metadata": {},
   "source": [
    "Sin embargo, a la hora de crear el Dataframe, necesitamos pasarle a la función los parámetros i, j y n, donde i es el número más bajo que puede aparecer, j el más altó y n el número fílas que queremos generar. En todo caso, siempre se van a generar Dataframes de 2 columnas."
   ]
  },
  {
   "cell_type": "code",
   "execution_count": 41,
   "metadata": {},
   "outputs": [],
   "source": [
    "#i numero más bajo, j el más alto, n, numero de filas\n",
    "def generate_df(i, j, n):\n",
    "    random.seed(33)\n",
    "    rows = [[random.randint(i, j), random.choice([True, False])] for _ in range(n)]\n",
    "    df = pd.DataFrame(rows, columns=['value', 'label'])\n",
    "    return df"
   ]
  },
  {
   "attachments": {},
   "cell_type": "markdown",
   "metadata": {},
   "source": [
    "Ahora que ya tenemos definidas las funciones que crean tanto datasets como dataframes, vamos a generar los dataset y dataframes que vamos a usar en las funciones."
   ]
  },
  {
   "cell_type": "code",
   "execution_count": 42,
   "metadata": {},
   "outputs": [],
   "source": [
    "df = generate_df(0, 100, 150)\n",
    "dataset = create_dataset(5, 15)\n",
    "random.seed(33)\n",
    "array = [random.randint(1, 100) for _ in range(50)]"
   ]
  },
  {
   "attachments": {},
   "cell_type": "markdown",
   "metadata": {},
   "source": [
    "Ahora empezamos a crear básicas indicadas en la asignatura."
   ]
  },
  {
   "attachments": {},
   "cell_type": "markdown",
   "metadata": {},
   "source": [
    "En la siguiente función, recibimos como entrada un vector de tipo numérico y un número de intervalos para implementar la discretización del propio vector que se da como entrada mediante el método equal width."
   ]
  },
  {
   "cell_type": "code",
   "execution_count": 43,
   "metadata": {},
   "outputs": [
    {
     "name": "stdout",
     "output_type": "stream",
     "text": [
      "[74, 22, 81, 30, 36, 62, 84, 69, 68, 24, 84, 79, 65, 42, 88, 68, 62, 57, 37, 87, 82, 10, 39, 53, 40, 67, 64, 7, 96, 78, 95, 87, 55, 36, 41, 72, 98, 88, 32, 16, 8, 41, 37, 28, 9, 96, 47, 16, 84, 42]\n"
     ]
    },
    {
     "data": {
      "text/plain": [
       "([[22, 30, 36, 24, 37, 10, 7, 36, 32, 16, 8, 37, 28, 9, 16],\n",
       "  [62, 65, 42, 62, 57, 37, 39, 53, 40, 67, 64, 55, 41, 41, 37, 47, 42],\n",
       "  [74,\n",
       "   81,\n",
       "   84,\n",
       "   69,\n",
       "   68,\n",
       "   84,\n",
       "   79,\n",
       "   88,\n",
       "   68,\n",
       "   87,\n",
       "   82,\n",
       "   67,\n",
       "   96,\n",
       "   78,\n",
       "   95,\n",
       "   87,\n",
       "   72,\n",
       "   88,\n",
       "   96,\n",
       "   84]],\n",
       " [7, 37, 67, 97])"
      ]
     },
     "execution_count": 43,
     "metadata": {},
     "output_type": "execute_result"
    }
   ],
   "source": [
    "def discretizeEW(data, num_intervals):\n",
    "    # Calcula el rango de valores\n",
    "    data_min = np.min(data)\n",
    "    data_max = np.max(data)\n",
    "    inter = int((data_max - data_min) / num_intervals)\n",
    "    x_discretized = []\n",
    "    \n",
    "    # Inicializa los límites de los intervalos\n",
    "    cut_points = [data_min + i * inter for i in range(num_intervals + 1)]\n",
    "\n",
    "    # Discretiza los datos asignando cada valor a su intervalo correspondiente\n",
    "    for i in range(0, num_intervals):\n",
    "        aux = []\n",
    "        for j in data:\n",
    "            if j >= cut_points[i] and j <= cut_points[i + 1]:\n",
    "                aux += [j]\n",
    "        x_discretized += [aux]\n",
    "\n",
    "    return (x_discretized, cut_points)\n",
    "\n",
    "print(array)\n",
    "discretizeEW(array, 3)"
   ]
  },
  {
   "attachments": {},
   "cell_type": "markdown",
   "metadata": {},
   "source": [
    "En la siguiente función, al igual que en la anterior, recibimos un vector de tipo numérico y un número de intervalos. La diferencia es que, en este caso, discretizamos el vector con el método equal frequency."
   ]
  },
  {
   "cell_type": "code",
   "execution_count": 44,
   "metadata": {},
   "outputs": [
    {
     "name": "stdout",
     "output_type": "stream",
     "text": [
      "[74, 22, 81, 30, 36, 62, 84, 69, 68, 24, 84, 79, 65, 42, 88, 68, 62, 57, 37, 87, 82, 10, 39, 53, 40, 67, 64, 7, 96, 78, 95, 87, 55, 36, 41, 72, 98, 88, 32, 16, 8, 41, 37, 28, 9, 96, 47, 16, 84, 42]\n"
     ]
    },
    {
     "data": {
      "text/plain": [
       "([[7, 8, 9, 10, 16, 16, 22, 24, 28, 30, 32, 36],\n",
       "  [36, 37, 37, 39, 40, 41, 41, 42, 42, 47, 53, 55],\n",
       "  [57, 62, 62, 64, 65, 67, 68, 68, 69, 72, 74, 78],\n",
       "  [79, 81, 82, 84, 84, 84, 87, 87, 88, 88, 95, 96, 96, 98]],\n",
       " [36, 55, 78, 98])"
      ]
     },
     "execution_count": 44,
     "metadata": {},
     "output_type": "execute_result"
    }
   ],
   "source": [
    "def discretizeEF(data, num_intervals):\n",
    "    # Ordenar los valores de manera ascendente\n",
    "    sorted_data = np.sort(data)\n",
    "    \n",
    "    # Calcular el tamaño objetivo de cada intervalo\n",
    "    total_observations = len(sorted_data)\n",
    "    interval_size = total_observations // num_intervals\n",
    "    \n",
    "    # Inicializar los intervalos y valores discretizados\n",
    "    intervals = []\n",
    "    discretized_data = []\n",
    "    interval_limits = []\n",
    "    start_index = 0\n",
    "    \n",
    "    # Asignar los valores a los intervalos correspondientes\n",
    "    for i in range(num_intervals - 1):\n",
    "        interval = sorted_data[start_index:start_index + interval_size]\n",
    "        intervals.append(interval)\n",
    "        interval_limits.append(interval[-1])\n",
    "        start_index += interval_size\n",
    "    \n",
    "    # Último intervalo (puede tener un tamaño diferente)\n",
    "    last_interval = sorted_data[start_index:]\n",
    "    intervals.append(last_interval)\n",
    "    interval_limits.append(last_interval[-1])\n",
    "\n",
    "    for _, interval in enumerate(intervals):\n",
    "        discretized_data.append(list(interval))\n",
    "    \n",
    "    return discretized_data, interval_limits\n",
    "\n",
    "\n",
    "print(array)\n",
    "discretizeEF(array, 4)"
   ]
  },
  {
   "attachments": {},
   "cell_type": "markdown",
   "metadata": {},
   "source": [
    "En la siguiente función, calculamos la varianza de un vector."
   ]
  },
  {
   "cell_type": "code",
   "execution_count": 45,
   "metadata": {},
   "outputs": [
    {
     "data": {
      "text/plain": [
       "718.7444"
      ]
     },
     "execution_count": 45,
     "metadata": {},
     "output_type": "execute_result"
    }
   ],
   "source": [
    "def variance(x):\n",
    "    column_mean = np.mean(x)\n",
    "    squared_diff = (x - column_mean)**2\n",
    "    column_variance = np.mean(squared_diff)\n",
    "    \n",
    "    return column_variance\n",
    "\n",
    "variance(array)"
   ]
  },
  {
   "attachments": {},
   "cell_type": "markdown",
   "metadata": {},
   "source": [
    "Ahora calculamos la varianza de todas las columnas de un dataframe."
   ]
  },
  {
   "cell_type": "code",
   "execution_count": 46,
   "metadata": {},
   "outputs": [
    {
     "data": {
      "text/plain": [
       "[856.1831555555551, 0.24782222222222236]"
      ]
     },
     "execution_count": 46,
     "metadata": {},
     "output_type": "execute_result"
    }
   ],
   "source": [
    "def column_variances(matrix):\n",
    "    if isinstance(matrix, pd.DataFrame):\n",
    "        matrix = matrix.to_numpy()\n",
    "\n",
    "    num_columns = matrix.shape[1]\n",
    "    column_var = np.zeros(num_columns)\n",
    "    \n",
    "    for j in range(num_columns):\n",
    "        column_data = matrix[:, j]\n",
    "        column_var[j] = variance(column_data)\n",
    "    \n",
    "    return list(column_var)\n",
    "\n",
    "column_variances(df)"
   ]
  },
  {
   "attachments": {},
   "cell_type": "markdown",
   "metadata": {},
   "source": [
    "Ahora vamos a calcular el AUC."
   ]
  },
  {
   "cell_type": "code",
   "execution_count": 47,
   "metadata": {},
   "outputs": [
    {
     "data": {
      "text/plain": [
       "0.43838420929104965"
      ]
     },
     "execution_count": 47,
     "metadata": {},
     "output_type": "execute_result"
    }
   ],
   "source": [
    "def AUC(df):\n",
    "    df.sort_values(by='value', inplace=True)\n",
    "\n",
    "    # Obtiene el mínimo y el máximo del dataframe\n",
    "    min_value = df['value'].min()\n",
    "    max_value = df['value'].max()\n",
    "\n",
    "    # Genera 50 valores de corte equidistantes entre el mínimo y el máximo\n",
    "    cutoffs = np.linspace(min_value, max_value, 50)\n",
    "\n",
    "    # Lista para almacenar las etiquetas reales\n",
    "\n",
    "    # Variables para almacenar los valores acumulados de TP, TN, FP y FN\n",
    "    tp_total, tn_total, fp_total, fn_total = 0, 0, 0, 0\n",
    "\n",
    "    predictions = []\n",
    "    labels = []\n",
    "    # Recorre cada valor de corte\n",
    "    for cutoff in cutoffs:\n",
    "        # Crea una lista de predicciones para el valor de corte actual\n",
    "        prediction = [1 if x > cutoff else 0 for x in df['value']]\n",
    "        predictions.append(prediction)\n",
    "        # Crea una copia de la lista de etiquetas para el valor de corte actual\n",
    "        labels.append(list(df['label']))\n",
    "\n",
    "\n",
    "    # Listas para almacenar los valores de TPR y FPR\n",
    "    tprs = []\n",
    "    fprs = []\n",
    "    # Recorre los valores de corte\n",
    "    for i in range(len(cutoffs)):\n",
    "        # Recorre cada fila del dataframe\n",
    "        for _, row in df.iterrows():\n",
    "            prediction = 1 if row['value'] > cutoffs[i] else 0\n",
    "            label = row['label']\n",
    "            # Acumula los valores de TP, TN, FP y FN según corresponda\n",
    "            tp_total += 1 if prediction == 1 and label == 1 else 0\n",
    "            tn_total += 1 if prediction == 0 and label == 0 else 0\n",
    "            fp_total += 1 if prediction == 1 and label == 0 else 0\n",
    "            fn_total += 1 if prediction == 0 and label == 1 else 0\n",
    "            # Calcula el TPR y el FPR para la combinación actual de valores de corte\n",
    "            if tp_total + fn_total == 0:\n",
    "                tpr = 0\n",
    "            else:\n",
    "                tpr = tp_total / (tp_total + fn_total)\n",
    "\n",
    "            if fp_total + tn_total == 0:\n",
    "                fpr = 0\n",
    "            else:\n",
    "                fpr = fp_total / (fp_total + tn_total)\n",
    "\n",
    "            # Añade los valores a las listas\n",
    "            tprs = tuple(list(tprs) + [tpr])\n",
    "            fprs = tuple(list(fprs) + [fpr])\n",
    "\n",
    "        # Ordena los valores de fpr y tpr\n",
    "        tprs, fprs = zip(*sorted(zip(tprs, fprs)))\n",
    "        tp_total, tn_total, fp_total, fn_total = 0, 0, 0, 0\n",
    "\n",
    "    # # Calcula el área bajo la curva ROC\n",
    "\n",
    "    # Inicializa la variable que almacenará el área bajo la curva\n",
    "    area = 0\n",
    "    # Recorre los valores de fpr y tpr de dos en dos\n",
    "    for i in range(len(fprs) - 1):\n",
    "        # Calcula la base mayor, la base menor y la altura\n",
    "        base_mayor = fprs[i + 1] - fprs[i]\n",
    "        base_menor = tprs[i + 1] - tprs[i]\n",
    "        altura = tprs[i + 1]\n",
    "        # Calcula el área del trapecio y la acumula\n",
    "        area += (base_mayor + base_menor) * altura / 2\n",
    "\n",
    "    return area, tprs, fprs\n",
    "\n",
    "area, _, _ = AUC(df)\n",
    "area"
   ]
  },
  {
   "attachments": {},
   "cell_type": "markdown",
   "metadata": {},
   "source": [
    "A continuación, vamos a calcular la entropía de un vector numérico."
   ]
  },
  {
   "cell_type": "code",
   "execution_count": 48,
   "metadata": {},
   "outputs": [
    {
     "data": {
      "text/plain": [
       "5.148758439731456"
      ]
     },
     "execution_count": 48,
     "metadata": {},
     "output_type": "execute_result"
    }
   ],
   "source": [
    "def entropy(x):\n",
    "    tam = len(x)\n",
    "    pi = [0] * len(np.unique(x))\n",
    "    aux = []\n",
    "    i = 0\n",
    "    for j in x:\n",
    "        if not j in aux:\n",
    "            # Mira si el elemento está en la lista. Si no está, +1 al contador.\n",
    "            cont = 0\n",
    "            for k in range(0, len(x)):\n",
    "                act = x[k]\n",
    "                if not j in aux and act == j:\n",
    "                    cont += 1\n",
    "            aux = aux + [j]\n",
    "            pi[i] = cont\n",
    "            i += 1\n",
    "\n",
    "    sum = 0\n",
    "    for i in range(0, len(pi)):\n",
    "        sum += -( pi[i] / tam) * np.log2( pi[i]/ tam)\n",
    "    return sum\n",
    "\n",
    "entropy(array)"
   ]
  },
  {
   "attachments": {},
   "cell_type": "markdown",
   "metadata": {},
   "source": [
    "A continuación, calculamos la entropia de cada columna de un dataframe usando la función entropy que hemos implementado antes."
   ]
  },
  {
   "cell_type": "code",
   "execution_count": 49,
   "metadata": {},
   "outputs": [
    {
     "data": {
      "text/plain": [
       "[6.101761023656136, 0.993707106604508]"
      ]
     },
     "execution_count": 49,
     "metadata": {},
     "output_type": "execute_result"
    }
   ],
   "source": [
    "def column_entropy(df):\n",
    "    # Creamos una lista para almacenar los resultados de la entropía de cada columna\n",
    "    entropies = []\n",
    "    # Iteramos por cada columna del dataframe\n",
    "    for col in df.columns:\n",
    "        # Calculamos la entropía de la columna actual y la añadimos a la lista\n",
    "        entropies.append(entropy(df[col]))\n",
    "    # Devolvemos la lista con los resultados de la entropía de cada columna\n",
    "    return entropies\n",
    "\n",
    "column_entropy(df)"
   ]
  },
  {
   "attachments": {},
   "cell_type": "markdown",
   "metadata": {},
   "source": [
    "Ahora vamos a normalizar y estandarizar los datos del dataset. Para ello, los datos deben ser numéricos."
   ]
  },
  {
   "cell_type": "code",
   "execution_count": 50,
   "metadata": {},
   "outputs": [
    {
     "data": {
      "text/plain": [
       "[[73, 21, 80, 29, 35, 61, 83, 68, 67, 23, 83, 78, 64, 41, 87],\n",
       " [67, 61, 56, 36, 86, 81, 9, 38, 52, 39, 66, 63, 6, 95, 77],\n",
       " [94, 86, 54, 35, 40, 71, 97, 87, 31, 15, 7, 40, 36, 27, 8],\n",
       " [95, 46, 15, 83, 41, 98, 31, 65, 34, 40, 0, 45, 67, 84, 38],\n",
       " [71, 50, 49, 23, 87, 14, 4, 46, 80, 95, 87, 71, 15, 8, 19]]"
      ]
     },
     "execution_count": 50,
     "metadata": {},
     "output_type": "execute_result"
    }
   ],
   "source": [
    "dataset = create_dataset(5, 15)\n",
    "dataset"
   ]
  },
  {
   "cell_type": "code",
   "execution_count": 51,
   "metadata": {},
   "outputs": [],
   "source": [
    "def normalize_standardize_dataset(dataset, option):\n",
    "    ds = dataset\n",
    "    min_value = np.min(ds)\n",
    "    max_value = np.max(ds)\n",
    "    mean_value = sum(ds[0]) / len(ds[0])\n",
    "    std_value = np.sqrt(sum((x - mean_value) ** 2 for x in ds[0]) / len(ds[0]))\n",
    "    for i in range(len(ds)):\n",
    "        for j in range(len(ds[i])):\n",
    "            if np.issubdtype(type(ds[i][j]), np.number):\n",
    "                if option == \"normalize\":\n",
    "                    ds[i][j] = round((ds[i][j] - min_value) / (max_value - min_value), 10)\n",
    "                elif option == \"standardize\":\n",
    "                    ds[i][j] = round((ds[i][j] - mean_value) / std_value, 10)\n",
    "    return ds"
   ]
  },
  {
   "cell_type": "code",
   "execution_count": 52,
   "metadata": {},
   "outputs": [
    {
     "name": "stdout",
     "output_type": "stream",
     "text": [
      "Dataset normalizado: \n"
     ]
    },
    {
     "data": {
      "text/plain": [
       "[[0.7448979592,\n",
       "  0.2142857143,\n",
       "  0.8163265306,\n",
       "  0.2959183673,\n",
       "  0.3571428571,\n",
       "  0.6224489796,\n",
       "  0.8469387755,\n",
       "  0.693877551,\n",
       "  0.6836734694,\n",
       "  0.2346938776,\n",
       "  0.8469387755,\n",
       "  0.7959183673,\n",
       "  0.6530612245,\n",
       "  0.4183673469,\n",
       "  0.887755102],\n",
       " [0.6836734694,\n",
       "  0.6224489796,\n",
       "  0.5714285714,\n",
       "  0.3673469388,\n",
       "  0.8775510204,\n",
       "  0.8265306122,\n",
       "  0.0918367347,\n",
       "  0.387755102,\n",
       "  0.5306122449,\n",
       "  0.3979591837,\n",
       "  0.6734693878,\n",
       "  0.6428571429,\n",
       "  0.0612244898,\n",
       "  0.9693877551,\n",
       "  0.7857142857],\n",
       " [0.9591836735,\n",
       "  0.8775510204,\n",
       "  0.5510204082,\n",
       "  0.3571428571,\n",
       "  0.4081632653,\n",
       "  0.7244897959,\n",
       "  0.9897959184,\n",
       "  0.887755102,\n",
       "  0.3163265306,\n",
       "  0.1530612245,\n",
       "  0.0714285714,\n",
       "  0.4081632653,\n",
       "  0.3673469388,\n",
       "  0.2755102041,\n",
       "  0.0816326531],\n",
       " [0.9693877551,\n",
       "  0.4693877551,\n",
       "  0.1530612245,\n",
       "  0.8469387755,\n",
       "  0.4183673469,\n",
       "  1.0,\n",
       "  0.3163265306,\n",
       "  0.6632653061,\n",
       "  0.3469387755,\n",
       "  0.4081632653,\n",
       "  0.0,\n",
       "  0.4591836735,\n",
       "  0.6836734694,\n",
       "  0.8571428571,\n",
       "  0.387755102],\n",
       " [0.7244897959,\n",
       "  0.5102040816,\n",
       "  0.5,\n",
       "  0.2346938776,\n",
       "  0.887755102,\n",
       "  0.1428571429,\n",
       "  0.0408163265,\n",
       "  0.4693877551,\n",
       "  0.8163265306,\n",
       "  0.9693877551,\n",
       "  0.887755102,\n",
       "  0.7244897959,\n",
       "  0.1530612245,\n",
       "  0.0816326531,\n",
       "  0.193877551]]"
      ]
     },
     "execution_count": 52,
     "metadata": {},
     "output_type": "execute_result"
    }
   ],
   "source": [
    "dataset = create_dataset(5, 15)\n",
    "print(\"Dataset normalizado: \")\n",
    "normalize_standardize_dataset(dataset, \"normalize\")"
   ]
  },
  {
   "cell_type": "code",
   "execution_count": 53,
   "metadata": {},
   "outputs": [
    {
     "name": "stdout",
     "output_type": "stream",
     "text": [
      "Dataset estandarizado: \n"
     ]
    },
    {
     "data": {
      "text/plain": [
       "[[0.596558415,\n",
       "  -1.7069839796,\n",
       "  0.9066506604,\n",
       "  -1.3525928419,\n",
       "  -1.0867994887,\n",
       "  0.0649717086,\n",
       "  1.039547337,\n",
       "  0.375063954,\n",
       "  0.3307650618,\n",
       "  -1.6183861951,\n",
       "  1.039547337,\n",
       "  0.818052876,\n",
       "  0.1978683852,\n",
       "  -0.8210061355,\n",
       "  1.2167429058],\n",
       " [0.3307650618,\n",
       "  0.0649717086,\n",
       "  -0.1565227525,\n",
       "  -1.0425005965,\n",
       "  1.1724440136,\n",
       "  0.9509495526,\n",
       "  -2.238570686,\n",
       "  -0.9539028121,\n",
       "  -0.3337183213,\n",
       "  -0.9096039199,\n",
       "  0.2864661696,\n",
       "  0.153569493,\n",
       "  -2.3714673626,\n",
       "  1.5711340435,\n",
       "  0.7737539838],\n",
       " [1.5268351513,\n",
       "  1.1724440136,\n",
       "  -0.2451205369,\n",
       "  -1.0867994887,\n",
       "  -0.8653050277,\n",
       "  0.5079606306,\n",
       "  1.6597318279,\n",
       "  1.2167429058,\n",
       "  -1.2639950575,\n",
       "  -1.9727773328,\n",
       "  -2.3271684704,\n",
       "  -0.8653050277,\n",
       "  -1.0425005965,\n",
       "  -1.4411906263,\n",
       "  -2.2828695782],\n",
       " [1.5711340435,\n",
       "  -0.5995116745,\n",
       "  -1.9727773328,\n",
       "  1.039547337,\n",
       "  -0.8210061355,\n",
       "  1.7040307201,\n",
       "  -1.2639950575,\n",
       "  0.2421672774,\n",
       "  -1.1310983809,\n",
       "  -0.8653050277,\n",
       "  -2.6372607158,\n",
       "  -0.6438105667,\n",
       "  0.3307650618,\n",
       "  1.0838462292,\n",
       "  -0.9539028121],\n",
       " [0.5079606306,\n",
       "  -0.4223161057,\n",
       "  -0.4666149979,\n",
       "  -1.6183861951,\n",
       "  1.2167429058,\n",
       "  -2.017076225,\n",
       "  -2.460065147,\n",
       "  -0.5995116745,\n",
       "  0.9066506604,\n",
       "  1.5711340435,\n",
       "  1.2167429058,\n",
       "  0.5079606306,\n",
       "  -1.9727773328,\n",
       "  -2.2828695782,\n",
       "  -1.795581764]]"
      ]
     },
     "execution_count": 53,
     "metadata": {},
     "output_type": "execute_result"
    }
   ],
   "source": [
    "dataset = create_dataset(5, 15)\n",
    "print(\"Dataset estandarizado: \")\n",
    "normalize_standardize_dataset(dataset, \"standardize\")"
   ]
  },
  {
   "attachments": {},
   "cell_type": "markdown",
   "metadata": {},
   "source": [
    "Para la función de filtrado, podemos hacer uso de las funciones column_variances() y colum_entropy(), que hemos implementado antes. Le pasamos los \"threshold\" que queremos aplicar al dataset."
   ]
  },
  {
   "cell_type": "code",
   "execution_count": 54,
   "metadata": {},
   "outputs": [
    {
     "data": {
      "text/html": [
       "<div>\n",
       "<style scoped>\n",
       "    .dataframe tbody tr th:only-of-type {\n",
       "        vertical-align: middle;\n",
       "    }\n",
       "\n",
       "    .dataframe tbody tr th {\n",
       "        vertical-align: top;\n",
       "    }\n",
       "\n",
       "    .dataframe thead th {\n",
       "        text-align: right;\n",
       "    }\n",
       "</style>\n",
       "<table border=\"1\" class=\"dataframe\">\n",
       "  <thead>\n",
       "    <tr style=\"text-align: right;\">\n",
       "      <th></th>\n",
       "      <th>value</th>\n",
       "    </tr>\n",
       "  </thead>\n",
       "  <tbody>\n",
       "    <tr>\n",
       "      <th>101</th>\n",
       "      <td>0</td>\n",
       "    </tr>\n",
       "    <tr>\n",
       "      <th>85</th>\n",
       "      <td>0</td>\n",
       "    </tr>\n",
       "    <tr>\n",
       "      <th>73</th>\n",
       "      <td>0</td>\n",
       "    </tr>\n",
       "    <tr>\n",
       "      <th>38</th>\n",
       "      <td>1</td>\n",
       "    </tr>\n",
       "    <tr>\n",
       "      <th>42</th>\n",
       "      <td>1</td>\n",
       "    </tr>\n",
       "    <tr>\n",
       "      <th>...</th>\n",
       "      <td>...</td>\n",
       "    </tr>\n",
       "    <tr>\n",
       "      <th>53</th>\n",
       "      <td>97</td>\n",
       "    </tr>\n",
       "    <tr>\n",
       "      <th>18</th>\n",
       "      <td>98</td>\n",
       "    </tr>\n",
       "    <tr>\n",
       "      <th>132</th>\n",
       "      <td>98</td>\n",
       "    </tr>\n",
       "    <tr>\n",
       "      <th>77</th>\n",
       "      <td>99</td>\n",
       "    </tr>\n",
       "    <tr>\n",
       "      <th>36</th>\n",
       "      <td>100</td>\n",
       "    </tr>\n",
       "  </tbody>\n",
       "</table>\n",
       "<p>150 rows × 1 columns</p>\n",
       "</div>"
      ],
      "text/plain": [
       "     value\n",
       "101      0\n",
       "85       0\n",
       "73       0\n",
       "38       1\n",
       "42       1\n",
       "..     ...\n",
       "53      97\n",
       "18      98\n",
       "132     98\n",
       "77      99\n",
       "36     100\n",
       "\n",
       "[150 rows x 1 columns]"
      ]
     },
     "execution_count": 54,
     "metadata": {},
     "output_type": "execute_result"
    }
   ],
   "source": [
    "def filter_variables(df, entropy_threshold, variance_threshold):\n",
    "    # Calculamos la varianza y la entropía de cada columna\n",
    "    variances = column_variances(df)\n",
    "    entropies = column_entropy(df)\n",
    "\n",
    "    # Filtramos las columnas que cumplen con los requisitos\n",
    "    filtered_columns = []\n",
    "    for i, col in enumerate(df.columns):\n",
    "        if variances[i] >= variance_threshold and entropies[i] >= entropy_threshold:\n",
    "            filtered_columns.append(col)\n",
    "\n",
    "    # Creamos el nuevo dataset con las columnas filtradas\n",
    "    filtered_df = df[filtered_columns]\n",
    "\n",
    "    return filtered_df\n",
    "\n",
    "filter_variables(df, 1, 1)"
   ]
  },
  {
   "attachments": {},
   "cell_type": "markdown",
   "metadata": {},
   "source": [
    "Lo siguiente que vamos a hacer calcular la correlación o la información mutua de las columnas de un dataset. Para ello primera hay que saber que tipo de datos contiene la columna."
   ]
  },
  {
   "cell_type": "code",
   "execution_count": 55,
   "metadata": {},
   "outputs": [],
   "source": [
    "def column_type(data):\n",
    "    if np.issubdtype(data.dtype, np.number):\n",
    "        return \"numerical\"\n",
    "    elif isinstance(data[0], str):\n",
    "        return \"categorical\"\n",
    "    else:\n",
    "        return \"unknown\"\n"
   ]
  },
  {
   "attachments": {},
   "cell_type": "markdown",
   "metadata": {},
   "source": [
    "Una vez sabemos que tipo es, si es de tipo numerical, calculamos la correlación de los datos. Si el tipo de dato es catergorical, calculamos la información mutua entre las columnas."
   ]
  },
  {
   "cell_type": "code",
   "execution_count": 56,
   "metadata": {},
   "outputs": [
    {
     "data": {
      "text/plain": [
       "[(0, 1, 1.5892965777212027),\n",
       " (0, 2, -2.3910335985136597),\n",
       " (0, 3, 2.668034729908308),\n",
       " (0, 4, -2.7518457684045363),\n",
       " (0, 5, 2.0228311652141118),\n",
       " (0, 6, 1.8973277194884726),\n",
       " (0, 7, 3.119253852459147),\n",
       " (0, 8, -3.262635945636058),\n",
       " (0, 9, -1.6995277526246282),\n",
       " (0, 10, -3.7701198473769137),\n",
       " (0, 11, -3.492785460685195),\n",
       " (0, 12, 2.2803115295726353),\n",
       " (0, 13, 0.08804403302752407),\n",
       " (0, 14, -2.3454972493107276),\n",
       " (1, 2, -0.9638047540801717),\n",
       " (1, 3, -0.1657526237966554),\n",
       " (1, 4, 0.6399065495512908),\n",
       " (1, 5, 0.503161160388216),\n",
       " (1, 6, 0.42800480131356267),\n",
       " (1, 7, 1.0215978323693127),\n",
       " (1, 8, -2.2725382738233133),\n",
       " (1, 9, -0.6109977080096273),\n",
       " (1, 10, -2.1252327619284777),\n",
       " (1, 11, -2.940531627197833),\n",
       " (1, 12, -1.9665091155312355),\n",
       " (1, 13, -0.25214313185252),\n",
       " (1, 14, -2.6422848911084285),\n",
       " (2, 3, -3.3439904990415648),\n",
       " (2, 4, -0.04435375055642432),\n",
       " (2, 5, -1.4976075045668111),\n",
       " (2, 6, 1.667908331068257),\n",
       " (2, 7, 0.11491812840684076),\n",
       " (2, 8, 1.9665403748977572),\n",
       " (2, 9, -0.9334418362849269),\n",
       " (2, 10, 2.6886985112225776),\n",
       " (2, 11, 2.598742640406818),\n",
       " (2, 12, -0.6349832495135602),\n",
       " (2, 13, -1.4322677658914935),\n",
       " (2, 14, 1.9301501994376837),\n",
       " (3, 4, -1.575114484606189),\n",
       " (3, 5, 2.954114396510645),\n",
       " (3, 6, -0.42743825763147636),\n",
       " (3, 7, 0.6767170419823406),\n",
       " (3, 8, -2.610068128699715),\n",
       " (3, 9, -0.8460576403082789),\n",
       " (3, 10, -2.966735435018783),\n",
       " (3, 11, -2.388453175362964),\n",
       " (3, 12, 2.2488823341747888),\n",
       " (3, 13, 2.471394087917934),\n",
       " (3, 14, -0.3214768184519559),\n",
       " (4, 5, -1.933907765744398),\n",
       " (4, 6, -3.349970781265678),\n",
       " (4, 7, -3.4935859228683124),\n",
       " (4, 8, 2.081437742740203),\n",
       " (4, 9, 2.9309284352674623),\n",
       " (4, 10, 2.1592033632592638),\n",
       " (4, 11, 1.398067825896692),\n",
       " (4, 12, -3.5917962100941425),\n",
       " (4, 13, 0.08778555668164383),\n",
       " (4, 14, -0.04158895070219408),\n",
       " (5, 6, 0.896850647723508),\n",
       " (5, 7, 1.0750097951103406),\n",
       " (5, 8, -3.3193489375753615),\n",
       " (5, 9, -2.936504158091915),\n",
       " (5, 10, -2.7652212236293665),\n",
       " (5, 11, -2.3129788954696107),\n",
       " (5, 12, 1.7140090743539005),\n",
       " (5, 13, 3.296458676578501),\n",
       " (5, 14, 1.1022311162348661),\n",
       " (6, 7, 3.63332917484255),\n",
       " (6, 8, -1.5744435974175879),\n",
       " (6, 9, -3.1116474673867867),\n",
       " (6, 10, -1.322839530363422),\n",
       " (6, 11, -1.0050579886977027),\n",
       " (6, 12, 2.169489603153739),\n",
       " (6, 13, -1.1992091006231316),\n",
       " (6, 14, -0.21096500556122416),\n",
       " (7, 8, -2.2918848229524262),\n",
       " (7, 9, -2.594929990031274),\n",
       " (7, 10, -2.4778430443641777),\n",
       " (7, 11, -2.1706374555893184),\n",
       " (7, 12, 2.4757855705680716),\n",
       " (7, 13, -1.2901424617715125),\n",
       " (7, 14, -1.5422191751143728),\n",
       " (8, 9, 2.7364607722133067),\n",
       " (8, 10, 3.7798675987935777),\n",
       " (8, 11, 3.679319883061325),\n",
       " (8, 12, -1.255822205624445),\n",
       " (8, 13, -1.8424509564203788),\n",
       " (8, 14, 1.0911508090573536),\n",
       " (9, 10, 1.9418603607637357),\n",
       " (9, 11, 1.565238445857276),\n",
       " (9, 12, -1.8692965084334523),\n",
       " (9, 13, -1.407140429447222),\n",
       " (9, 14, -1.1543188146008632),\n",
       " (10, 11, 3.852569911735794),\n",
       " (10, 12, -1.6081661725884606),\n",
       " (10, 13, -1.173157898537991),\n",
       " (10, 14, 1.965598294435143),\n",
       " (11, 12, -0.6094100788894364),\n",
       " (11, 13, -0.8768597131128967),\n",
       " (11, 14, 2.466155167281474),\n",
       " (12, 13, 0.31574442244270506),\n",
       " (12, 14, 0.556383728569726),\n",
       " (13, 14, 2.1239186434561197)]"
      ]
     },
     "execution_count": 56,
     "metadata": {},
     "output_type": "execute_result"
    }
   ],
   "source": [
    "def correlation(dataset):\n",
    "    # Determinamos el tipo de cada columna\n",
    "    aux = []\n",
    "    column_types = []\n",
    "    for i in range(len(dataset[0])):\n",
    "        aux = [row[i] for row in dataset]\n",
    "        column_types.append(column_type(np.array(aux)))\n",
    "    # Calculamos la correlación o la información mutua entre todos los pares de columnas\n",
    "    correlations = []\n",
    "    for i in range(len(dataset[0])):\n",
    "        for j in range(i + 1, len(dataset[0])):\n",
    "            column_i = [row[i] for row in dataset]\n",
    "            column_j = [row[j] for row in dataset]\n",
    "            if column_types[i] == \"numerical\" and column_types[j] == \"numerical\":\n",
    "                # Calculamos la correlación entre dos columnas numéricas\n",
    "                mean_i = statistics.mean(column_i)\n",
    "                stdev_i = statistics.stdev(column_i)\n",
    "                mean_j = statistics.mean(column_j)\n",
    "                stdev_j = statistics.stdev(column_j)\n",
    "                correlation = sum((x - mean_i) * (y - mean_j) for x, y in zip(column_i, column_j)) / (stdev_i * stdev_j)\n",
    "                correlations.append((i, j, correlation))\n",
    "            elif column_types[i] == \"categorical\" and column_types[j] == \"categorical\":\n",
    "                # Calculamos la información mutua entre dos columnas categóricas\n",
    "                values_i = set(column_i)\n",
    "                values_j = set(column_j)\n",
    "                mutual_information = 0\n",
    "                for value_i in values_i:\n",
    "                    for value_j in values_j:\n",
    "                        p_i = sum(column_i == value_i) / len(column_i)\n",
    "                        p_j = sum(column_j == value_j) / len(column_j)\n",
    "                        p_ij = sum((column_i == value_i) & (column_j == value_j)) / len(column_i)\n",
    "                        mutual_information += p_ij * np.log2(p_ij / (p_i * p_j))\n",
    "                correlations.append((i, j, mutual_information))\n",
    "    return correlations\n",
    "\n",
    "dataset = create_dataset(5, 15)\n",
    "correlation(dataset)"
   ]
  },
  {
   "attachments": {},
   "cell_type": "markdown",
   "metadata": {},
   "source": [
    "Vamos por último a visualizar con diferentes gráficas algunos resultados."
   ]
  },
  {
   "attachments": {},
   "cell_type": "markdown",
   "metadata": {},
   "source": [
    "Empezamos por el AUC."
   ]
  },
  {
   "cell_type": "code",
   "execution_count": 57,
   "metadata": {},
   "outputs": [
    {
     "data": {
      "image/png": "[encoded data removed]",
      "text/plain": [
       "<Figure size 640x480 with 1 Axes>"
      ]
     },
     "metadata": {},
     "output_type": "display_data"
    }
   ],
   "source": [
    "def plot_auc(data):\n",
    "    _, fprs, tprs = AUC(data)\n",
    "    plt.scatter(fprs, tprs)\n",
    "    plt.ylabel('True Positive Rate')\n",
    "    plt.xlabel('False Positive Rate')\n",
    "    plt.show()\n",
    "\n",
    "plot_auc(df)"
   ]
  },
  {
   "attachments": {},
   "cell_type": "markdown",
   "metadata": {},
   "source": [
    "Por último, obtenemos las gráficas de las correlaciones."
   ]
  },
  {
   "cell_type": "code",
   "execution_count": 58,
   "metadata": {},
   "outputs": [
    {
     "data": {
      "image/png": "[encoded data removed]",
      "text/plain": [
       "<Figure size 640x480 with 1 Axes>"
      ]
     },
     "metadata": {},
     "output_type": "display_data"
    }
   ],
   "source": [
    "def plot_corr_mutual_info(data):\n",
    "    correlations = correlation(data)\n",
    "\n",
    "    # Obtenemos las correlaciones para los pares de columnas numéricas\n",
    "    numerical_correlations = [(i, j, cor) for i, j, cor in correlations if\n",
    "                              isinstance(cor, float)]\n",
    "\n",
    "    # Dibujamos un gráfico de dispersión para cada par de columnas numéricas\n",
    "    for i, j, cor in numerical_correlations:\n",
    "        plt.scatter(i, j, s=abs(cor) * 50, c=\"red\" if cor > 0 else \"blue\")\n",
    "\n",
    "    plt.show()\n",
    "plot_corr_mutual_info(dataset)"
   ]
  },
  {
   "cell_type": "code",
   "execution_count": null,
   "metadata": {},
   "outputs": [],
   "source": []
  }
 ],
 "metadata": {
  "kernelspec": {
   "display_name": "Python 3",
   "language": "python",
   "name": "python3"
  },
  "language_info": {
   "codemirror_mode": {
    "name": "ipython",
    "version": 3
   },
   "file_extension": ".py",
   "mimetype": "text/x-python",
   "name": "python",
   "nbconvert_exporter": "python",
   "pygments_lexer": "ipython3",
   "version": "3.9.13"
  },
  "orig_nbformat": 4
 },
 "nbformat": 4,
 "nbformat_minor": 2
}
